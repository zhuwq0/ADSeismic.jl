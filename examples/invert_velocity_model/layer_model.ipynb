{
 "cells": [
  {
   "cell_type": "markdown",
   "metadata": {},
   "source": [
    "## Layer Earth crust model\n",
    "\n",
    "In this model, we build a layered Earth crust model, with two anomalies: slow velocity and fast velocity. The mean velociy is the similar AK135 model."
   ]
  },
  {
   "cell_type": "markdown",
   "metadata": {},
   "source": [
    "## AK135 velocity model\n",
    "| depth(km)  |  vp (km/s)  | vs (km/s)  | rho (kg/m$^3$) |\n",
    "|----|----|----|----|\n",
    "|   0.000,   |   5.8000,  |    3.4600,  |    2.7200 |\n",
    "|  20.000,   |   5.8000,  |    3.4600,  |    2.7200 |\n",
    "|  20.000,   |   6.5000,  |    3.8500,  |    2.9200 |\n",
    "|  35.000,   |   6.5000,  |    3.8500,  |    2.9200 |\n",
    "|  35.000,   |   8.0400,  |    4.4800,  |    3.3198 |\n",
    "|  77.500,   |   8.0450,  |    4.4900,  |    3.3455 |\n",
    "| 120.000,   |   8.0500,  |    4.5000,  |    3.3713 |"
   ]
  },
  {
   "cell_type": "code",
   "execution_count": 1,
   "metadata": {
    "collapsed": true
   },
   "outputs": [],
   "source": [
    "import numpy as np\n",
    "import matplotlib.pyplot as plt\n",
    "import scipy.io\n",
    "from scipy.ndimage.filters import gaussian_filter\n",
    "from scipy.interpolate import interp1d\n",
    "import os\n",
    "from util import *"
   ]
  },
  {
   "cell_type": "code",
   "execution_count": 2,
   "metadata": {
    "collapsed": true
   },
   "outputs": [],
   "source": [
    "%load_ext autoreload\n",
    "%autoreload 2"
   ]
  },
  {
   "cell_type": "code",
   "execution_count": 3,
   "metadata": {
    "collapsed": true
   },
   "outputs": [],
   "source": [
    "out_dir = \"models\"\n",
    "if not os.path.exists(out_dir):\n",
    "    os.makedirs(out_dir)"
   ]
  },
  {
   "cell_type": "code",
   "execution_count": 4,
   "metadata": {},
   "outputs": [
    {
     "name": "stdout",
     "output_type": "stream",
     "text": [
      "nx = 188, ny = 88, nt = 745\n",
      "dx = 0.7999999999999999 km, dy = 0.7999999999999999 km, dt = 0.03809523809523809 s\n"
     ]
    }
   ],
   "source": [
    "f0 = 1.5\n",
    "vp0 = 7 #km/s\n",
    "dx, dt = calc_dx_dt(f0/1.2, vp0)\n",
    "dy = dx\n",
    "n_pml = 15\n",
    "x_range = [0, 150]\n",
    "y_range = [0, 70]\n",
    "t_range = [0, np.sqrt((x_range[1] - x_range[0])**2 + (y_range[1] - y_range[0])**2)/vp0 * 1.2]\n",
    "x = np.arange(x_range[0], x_range[1], dx)\n",
    "y = np.arange(y_range[0], y_range[1], dy)\n",
    "t = np.arange(t_range[0], t_range[1], dt)\n",
    "nx = len(x)\n",
    "ny = len(y)\n",
    "nt = len(t)\n",
    "rcv_depth = 12\n",
    "src_depth = ny - 12\n",
    "mask_extra_depth = 2\n",
    "print(\"nx = {}, ny = {}, nt = {}\".format(nx, ny, nt))\n",
    "print(\"dx = {} km, dy = {} km, dt = {} s\".format(dx, dy, dt))"
   ]
  },
  {
   "cell_type": "markdown",
   "metadata": {},
   "source": [
    "## source and receiver types:\n",
    "\n",
    "| index | type |\n",
    "| :---: | :---: |\n",
    "|0 | $v_x$ |\n",
    "|1 | $v_y$ |\n",
    "|2 | $\\sigma_{xx}$ |\n",
    "|3 | $\\sigma_{yy}$ |\n",
    "|4 | $\\sigma_{xy}$ |"
   ]
  },
  {
   "cell_type": "code",
   "execution_count": 5,
   "metadata": {
    "collapsed": true
   },
   "outputs": [],
   "source": [
    "src_type = [2]\n",
    "rcv_type = [0]\n",
    "src_amp = 1e5"
   ]
  },
  {
   "cell_type": "code",
   "execution_count": 6,
   "metadata": {},
   "outputs": [
    {
     "name": "stdout",
     "output_type": "stream",
     "text": [
      "[ 0. 13. 26. 39. 52. 65. 78.]\n"
     ]
    }
   ],
   "source": [
    "def step_profile(x_range, y_range, step):\n",
    "    y_step1 = np.round(np.arange(y_range[0], y_range[1]+step, step)/step) * step\n",
    "    print(y_step1)\n",
    "    vp_step1 = y_step1/(y_range[1]-y_range[0]) * (8.04-5.8) + 5.8\n",
    "    vs_step1 = y_step1/(y_range[1]-y_range[0]) * (4.48-3.46) + 3.46\n",
    "    rho_step1 = y_step1/(y_range[1]-y_range[0]) * (3.32-2.72) + 2.72\n",
    "    \n",
    "    y_step2 = y_step1 + (y_step1[1] - y_step1[0] - 1)\n",
    "    vp_step2 = vp_step1\n",
    "    vs_step2 = vs_step1\n",
    "    rho_step2 = rho_step1\n",
    "\n",
    "    idy = np.argsort(np.hstack([y_step1, y_step2]))\n",
    "    y_step = np.hstack([y_step1, y_step2])[idy]\n",
    "    vp_step = np.hstack([vp_step1, vp_step2])[idy]\n",
    "    vs_step = np.hstack([vs_step1, vs_step2])[idy]\n",
    "    rho_step = np.hstack([rho_step1, rho_step2])[idy]\n",
    "    vp_step[-1:] = vp_step[-2]\n",
    "    vs_step[-1:] = vs_step[-2]\n",
    "    rho_step[-1:] = rho_step[-2]\n",
    "    \n",
    "    return y_step, vp_step, vs_step, rho_step\n",
    "\n",
    "def build_layer_model(x, y, step):\n",
    "    y_step, vp_step, vs_step, rho_step = step_profile([x[0], x[-1]], [y[0], y[-1]], step)\n",
    "    \n",
    "    vp = interp1d(y_step, vp_step, kind='slinear')(y)\n",
    "    vs = interp1d(y_step, vs_step, kind='slinear')(y)\n",
    "    rho = interp1d(y_step, rho_step, kind='slinear')(y)\n",
    "    \n",
    "    vp = np.tile(vp[np.newaxis,:], [len(x),1])\n",
    "    vs = np.tile(vs[np.newaxis,:], [len(x),1])\n",
    "    rho = np.tile(rho[np.newaxis,:], [len(x),1])\n",
    "    \n",
    "    model = {}\n",
    "    model['vp'] = vp\n",
    "    model['vs'] = vs\n",
    "    model['rho'] = rho\n",
    "    model['x'] = x\n",
    "    model['y'] = y\n",
    "    model['dx'] = x[1] - x[0]\n",
    "    model['dy'] = y[1] - y[0]\n",
    "    \n",
    "    return model\n",
    "\n",
    "step = 13 #km\n",
    "model = build_layer_model(x, y, step)\n"
   ]
  },
  {
   "cell_type": "code",
   "execution_count": 7,
   "metadata": {},
   "outputs": [
    {
     "data": {
      "image/png": "[encoded data removed]",
      "text/plain": [
       "<Figure size 432x288 with 1 Axes>"
      ]
     },
     "metadata": {},
     "output_type": "display_data"
    }
   ],
   "source": [
    "plt.figure()\n",
    "plt.plot(model['vp'][0,:], y, label='vp')\n",
    "plt.plot(model['vs'][0,:], y, label='vs')\n",
    "plt.plot(model['rho'][0,:], y, label='rho')\n",
    "plt.gca().invert_yaxis()\n",
    "plt.legend()\n",
    "plt.show()"
   ]
  },
  {
   "cell_type": "code",
   "execution_count": 8,
   "metadata": {
    "collapsed": true
   },
   "outputs": [],
   "source": [
    "def line_source(angle, model, t, n_pml=0):\n",
    "    dt = t[1] - t[0]\n",
    "    x = model['x']\n",
    "    y = model['y']\n",
    "    nx = len(model['x'])\n",
    "    ny = len(model['y'])\n",
    "    vp = model['vp']\n",
    "    angle = np.deg2rad(angle)\n",
    "    src = {}\n",
    "    src['ix'] = np.arange(n_pml, nx-n_pml, 1)\n",
    "#     src['ix'] = np.array([nx//2])\n",
    "    src['iy'] = np.ones_like(src['ix']) * src_depth\n",
    "#     src['iy'] = np.array([ny//2])\n",
    "    src['type'] = np.ones_like(src['ix'])\n",
    "    vec = src_amp * ricker(f0, dt)\n",
    "    vec_list = []\n",
    "    for i, ix in enumerate(src['ix']):\n",
    "        if angle > 0:\n",
    "            ishift = int(((x[ix] - x[0])*np.sin(angle) / vp[ix, src['iy'][i]])/dt)\n",
    "            tmp = np.zeros_like(t)\n",
    "            tmp[ishift:ishift+len(vec)] = vec[:len(tmp[ishift:ishift+len(vec)])]\n",
    "        else:\n",
    "            ishift = int(((x[ix] - x[-1])*np.sin(angle) / vp[ix, src['iy'][i]])/dt)\n",
    "            tmp = np.zeros_like(t)\n",
    "            tmp[ishift:ishift+len(vec)] = vec[:len(tmp[ishift:ishift+len(vec)])]   \n",
    "        vec_list.append(tmp)\n",
    "    vec = np.array(vec_list)\n",
    "    src['vec'] = vec.T\n",
    "    return src\n",
    "\n",
    "def add_source(nsrc, model, t, n_pml, types):\n",
    "    source_list = []\n",
    "    for angle in np.linspace(-30, 30, nsrc):\n",
    "#     for angle in [0]:\n",
    "        src = line_source(angle, model, t, n_pml)\n",
    "        srcs = {}\n",
    "        srcs['ix'] = np.tile(src['ix'], len(types))   \n",
    "        srcs['iy'] = np.tile(src['iy'], len(types)) \n",
    "        srcs['vec'] = np.tile(src['vec'], len(types))  \n",
    "        srcs['type'] = np.hstack([src['type'] * i for i in types])\n",
    "        source_list.append(srcs)\n",
    "    return source_list\n",
    "\n",
    "nsrc = 4\n",
    "source_list = add_source(nsrc, model, t, n_pml, src_type)"
   ]
  },
  {
   "cell_type": "code",
   "execution_count": 9,
   "metadata": {},
   "outputs": [
    {
     "data": {
      "image/png": "[encoded data removed]",
      "text/plain": [
       "<Figure size 432x288 with 1 Axes>"
      ]
     },
     "metadata": {},
     "output_type": "display_data"
    }
   ],
   "source": [
    "plt.figure()\n",
    "plt.pcolormesh(source_list[0]['vec'])\n",
    "plt.show()"
   ]
  },
  {
   "cell_type": "code",
   "execution_count": 10,
   "metadata": {
    "collapsed": true
   },
   "outputs": [],
   "source": [
    "def add_receiver(nrec, nsrc, nx, n_pml=0, types=[0]):\n",
    "    rcv = {}\n",
    "    rcv['ix'] = np.round(np.linspace(0+n_pml, nx-n_pml, nrec)).astype('int')\n",
    "    rcv['iy'] = np.ones_like(rcv['ix']) * rcv_depth\n",
    "    rcv['type'] = np.ones_like(rcv['ix'])\n",
    "    \n",
    "    rcvs = {}\n",
    "    rcvs['ix'] = np.tile(rcv['ix'], len(types))   \n",
    "    rcvs['iy'] = np.tile(rcv['iy'], len(types))  \n",
    "    rcvs['type'] = np.hstack([rcv['type'] * i for i in types])\n",
    "    \n",
    "    return [rcvs] * nsrc\n",
    "    \n",
    "receiver_list = add_receiver(int(vp0/f0/dx)*4, nsrc, nx, n_pml, rcv_type)"
   ]
  },
  {
   "cell_type": "code",
   "execution_count": 11,
   "metadata": {
    "collapsed": true
   },
   "outputs": [],
   "source": [
    "def get_smooth_model(model, src):\n",
    "    vp = model['vp'].copy()\n",
    "    vp[:,rcv_depth+mask_extra_depth:src_depth-mask_extra_depth] = gaussian_filter(model['vp'][:, rcv_depth+mask_extra_depth:src_depth-mask_extra_depth], [10,10], mode='reflect')\n",
    "    vs = model['vs'].copy()\n",
    "    vs[:,rcv_depth+mask_extra_depth:src_depth-mask_extra_depth] = gaussian_filter(model['vs'][:, rcv_depth+mask_extra_depth:src_depth-mask_extra_depth], [10,10], mode='reflect')\n",
    "    rho = model['rho'].copy()\n",
    "    rho[:,rcv_depth+mask_extra_depth:src_depth-mask_extra_depth] = gaussian_filter(model['rho'][:, rcv_depth+mask_extra_depth:src_depth-mask_extra_depth], [10,10], mode='reflect')\n",
    "#     vp = model['vp'].copy()\n",
    "#     vp = gaussian_filter(model['vp'], [10,10], mode='reflect')\n",
    "#     vs = model['vs'].copy()\n",
    "#     vs = gaussian_filter(model['vs'], [10,10], mode='reflect')\n",
    "#     rho = model['rho'].copy()\n",
    "#     rho = gaussian_filter(model['rho'], [10,10], mode='reflect')\n",
    "    \n",
    "    new_model = {}\n",
    "    new_model['vp'] = vp\n",
    "    new_model['vs'] = vs\n",
    "    new_model['rho'] = rho\n",
    "    new_model['x'] = model['x']\n",
    "    new_model['y'] = model['y']\n",
    "    new_model['dx'] = model['dx']\n",
    "    new_model['dy'] = model['dy']\n",
    "    return new_model\n",
    "\n",
    "smooth_model = get_smooth_model(model, source_list[0])"
   ]
  },
  {
   "cell_type": "code",
   "execution_count": 12,
   "metadata": {
    "collapsed": true
   },
   "outputs": [],
   "source": [
    "def get_anomaly_model(model, n_pml):\n",
    "    x = model['x']\n",
    "    y = model['y']\n",
    "    dx = x[1]-x[0]\n",
    "    dy = y[1]-y[0]\n",
    "    vp = model['vp'].copy()\n",
    "    vs = model['vs'].copy()\n",
    "    rho = model['rho'].copy()\n",
    "    \n",
    "    x0 = (x[-1]-1*n_pml*dx)*2/3 + 0.5*n_pml*dx\n",
    "    y0 = (y[-1]-1*n_pml*dy)*1/3 + 0.5*n_pml*dy\n",
    "#     x0 = x[-1]*2/3\n",
    "#     y0 = (y[-1]-2*n_pml*dy)/3 + n_pml*dy\n",
    "    a = x[-1]/6\n",
    "    b = y[-1]/10\n",
    "    anomaly1 = np.zeros_like(vp)\n",
    "    for i, xi in enumerate(x):\n",
    "        for j, yj in enumerate(y):\n",
    "            if ((xi-x0)/a)**2 + ((yj-y0)/b)**2 < 1:\n",
    "                anomaly1[i, j] = 1\n",
    "                \n",
    "#     x0 = x[-1]/3 \n",
    "#     y0 = y[-1]*2/3 \n",
    "    x0 = (x[-1]-1*n_pml*dx)/3 + 0.5*n_pml*dx\n",
    "    y0 = (y[-1]-1*n_pml*dy)*2/3 + 0.5*n_pml*dy\n",
    "    a = x[-1]/6\n",
    "    b = y[-1]/10\n",
    "    anomaly2 = np.zeros_like(vp)\n",
    "    for i, xi in enumerate(x):\n",
    "        for j, yj in enumerate(y):\n",
    "            if ((xi-x0)/a)**2 + ((yj-y0)/b)**2 < 1:\n",
    "                anomaly2[i, j] = 1\n",
    "                \n",
    "\n",
    "    vp[anomaly1==1] = np.mean(vp[anomaly1==1])*1.1\n",
    "    vp[anomaly2==1] = np.mean(vp[anomaly2==1])/1.1\n",
    "\n",
    "    vs[anomaly1==1] = np.mean(vs[anomaly1==1])*1.1\n",
    "    vs[anomaly2==1] = np.mean(vs[anomaly2==1])/1.1\n",
    "\n",
    "    rho[anomaly1==1] = np.mean(rho[anomaly1==1])*1.1\n",
    "    rho[anomaly2==1] = np.mean(rho[anomaly2==1])/1.1\n",
    "    \n",
    "    new_model = {}\n",
    "    new_model['vp'] = vp\n",
    "    new_model['vs'] = vs\n",
    "    new_model['rho'] = rho\n",
    "    new_model['x'] = model['x']\n",
    "    new_model['y'] = model['y']\n",
    "    new_model['dx'] = model['dx']\n",
    "    new_model['dy'] = model['dy']\n",
    "    return new_model\n",
    "\n",
    "anomaly_model = get_anomaly_model(model, n_pml)"
   ]
  },
  {
   "cell_type": "code",
   "execution_count": 13,
   "metadata": {},
   "outputs": [
    {
     "data": {
      "image/png": "[encoded data removed]",
      "text/plain": [
       "<Figure size 720x504 with 2 Axes>"
      ]
     },
     "metadata": {},
     "output_type": "display_data"
    }
   ],
   "source": [
    "plt.figure(figsize=(10,7))\n",
    "x_mesh, y_mesh = np.meshgrid(x, y)\n",
    "x0 = x[0]\n",
    "plt.pcolormesh(x_mesh-x0, y_mesh, model['vp'].T)\n",
    "plt.plot(x[receiver_list[0]['ix']]-x0, y[receiver_list[0]['iy']], 'wv', alpha=0.5)\n",
    "for i in range(len(source_list)):\n",
    "    plt.plot(x[source_list[i]['ix']]-x0, y[source_list[i]['iy']], 'r*')\n",
    "plt.xlabel(\"x (km)\")\n",
    "plt.ylabel(\"z (km)\")\n",
    "plt.gca().invert_yaxis()\n",
    "plt.axis('scaled')\n",
    "plt.colorbar(shrink=0.5)\n",
    "plt.savefig(os.path.join(out_dir, \"layer-model-vp.png\"))\n",
    "plt.show()"
   ]
  },
  {
   "cell_type": "code",
   "execution_count": 14,
   "metadata": {},
   "outputs": [
    {
     "data": {
      "image/png": "[encoded data removed]",
      "text/plain": [
       "<Figure size 720x504 with 2 Axes>"
      ]
     },
     "metadata": {},
     "output_type": "display_data"
    }
   ],
   "source": [
    "plt.figure(figsize=(10,7))\n",
    "x_mesh, y_mesh = np.meshgrid(x, y)\n",
    "x0 = x[0]\n",
    "plt.pcolormesh(x_mesh-x0, y_mesh, smooth_model['vp'].T)\n",
    "plt.plot(x[receiver_list[0]['ix']]-x0, y[receiver_list[0]['iy']], 'wv', alpha=0.5)\n",
    "for i in range(len(source_list)):\n",
    "    plt.plot(x[source_list[i]['ix']]-x0, y[source_list[i]['iy']], 'r*')\n",
    "plt.xlabel(\"x (km)\")\n",
    "plt.ylabel(\"z (km)\")\n",
    "plt.gca().invert_yaxis()\n",
    "plt.axis('scaled')\n",
    "plt.colorbar(shrink=0.5)\n",
    "plt.savefig(os.path.join(out_dir, \"layer-model-smooth-vp.png\"))\n",
    "plt.show()"
   ]
  },
  {
   "cell_type": "code",
   "execution_count": 15,
   "metadata": {},
   "outputs": [
    {
     "data": {
      "image/png": "[encoded data removed]",
      "text/plain": [
       "<Figure size 720x504 with 2 Axes>"
      ]
     },
     "metadata": {},
     "output_type": "display_data"
    }
   ],
   "source": [
    "plt.figure(figsize=(10,7))\n",
    "x_mesh, y_mesh = np.meshgrid(x, y)\n",
    "x0 = x[0]\n",
    "plt.pcolormesh(x_mesh-x0, y_mesh, anomaly_model['vp'].T)\n",
    "plt.plot(x[receiver_list[0]['ix']]-x0, y[receiver_list[0]['iy']], 'wv', alpha=0.5)\n",
    "for i in range(len(source_list)):\n",
    "    plt.plot(x[source_list[i]['ix']]-x0, y[source_list[i]['iy']], 'r*')\n",
    "plt.xlabel(\"x (km)\")\n",
    "plt.ylabel(\"z (km)\")\n",
    "plt.gca().invert_yaxis()\n",
    "plt.axis('scaled')\n",
    "plt.colorbar(shrink=0.5)\n",
    "plt.savefig(os.path.join(out_dir, \"layer-model-anomaly-vp.png\"))\n",
    "plt.show()"
   ]
  },
  {
   "cell_type": "code",
   "execution_count": 16,
   "metadata": {},
   "outputs": [
    {
     "data": {
      "image/png": "[encoded data removed]",
      "text/plain": [
       "<Figure size 720x504 with 2 Axes>"
      ]
     },
     "metadata": {},
     "output_type": "display_data"
    }
   ],
   "source": [
    "plt.figure(figsize=(10,7))\n",
    "x_mesh, y_mesh = np.meshgrid(x, y)\n",
    "x0 = x[0]\n",
    "plt.pcolormesh(x_mesh-x0, y_mesh, model['vs'].T)\n",
    "plt.plot(x[receiver_list[0]['ix']]-x0, y[receiver_list[0]['iy']], 'wv', alpha=0.5)\n",
    "for i in range(len(source_list)):\n",
    "    plt.plot(x[source_list[i]['ix']]-x0, y[source_list[i]['iy']], 'r*')\n",
    "plt.xlabel(\"x (km)\")\n",
    "plt.ylabel(\"z (km)\")\n",
    "plt.gca().invert_yaxis()\n",
    "plt.axis('scaled')\n",
    "plt.colorbar(shrink=0.5)\n",
    "plt.savefig(os.path.join(out_dir, \"layer-model-vs.png\"))\n",
    "plt.show()"
   ]
  },
  {
   "cell_type": "code",
   "execution_count": 17,
   "metadata": {},
   "outputs": [
    {
     "data": {
      "image/png": "[encoded data removed]",
      "text/plain": [
       "<Figure size 720x504 with 2 Axes>"
      ]
     },
     "metadata": {},
     "output_type": "display_data"
    }
   ],
   "source": [
    "plt.figure(figsize=(10,7))\n",
    "x_mesh, y_mesh = np.meshgrid(x, y)\n",
    "x0 = x[0]\n",
    "plt.pcolormesh(x_mesh-x0, y_mesh, smooth_model['vp'].T)\n",
    "plt.plot(x[receiver_list[0]['ix']]-x0, y[receiver_list[0]['iy']], 'wv', alpha=0.5)\n",
    "for i in range(len(source_list)):\n",
    "    plt.plot(x[source_list[i]['ix']]-x0, y[source_list[i]['iy']], 'r*')\n",
    "plt.xlabel(\"x (km)\")\n",
    "plt.ylabel(\"z (km)\")\n",
    "plt.gca().invert_yaxis()\n",
    "plt.axis('scaled')\n",
    "plt.colorbar(shrink=0.5)\n",
    "plt.savefig(os.path.join(out_dir, \"layer-model-smooth-vp.png\"))\n",
    "plt.show()"
   ]
  },
  {
   "cell_type": "code",
   "execution_count": 18,
   "metadata": {},
   "outputs": [
    {
     "data": {
      "image/png": "[encoded data removed]",
      "text/plain": [
       "<Figure size 720x504 with 2 Axes>"
      ]
     },
     "metadata": {},
     "output_type": "display_data"
    }
   ],
   "source": [
    "plt.figure(figsize=(10,7))\n",
    "x_mesh, y_mesh = np.meshgrid(x, y)\n",
    "x0 = x[0]\n",
    "plt.pcolormesh(x_mesh-x0, y_mesh, anomaly_model['vs'].T)\n",
    "plt.plot(x[receiver_list[0]['ix']]-x0, y[receiver_list[0]['iy']], 'wv', alpha=0.5)\n",
    "for i in range(len(source_list)):\n",
    "    plt.plot(x[source_list[i]['ix']]-x0, y[source_list[i]['iy']], 'r*')\n",
    "plt.xlabel(\"x (km)\")\n",
    "plt.ylabel(\"z (km)\")\n",
    "plt.gca().invert_yaxis()\n",
    "plt.axis('scaled')\n",
    "plt.colorbar(shrink=0.5)\n",
    "plt.savefig(os.path.join(out_dir, \"layer-model-anomaly-vs.png\"))\n",
    "plt.show()"
   ]
  },
  {
   "cell_type": "code",
   "execution_count": 19,
   "metadata": {},
   "outputs": [
    {
     "data": {
      "image/png": "[encoded data removed]",
      "text/plain": [
       "<Figure size 720x504 with 2 Axes>"
      ]
     },
     "metadata": {},
     "output_type": "display_data"
    }
   ],
   "source": [
    "plt.figure(figsize=(10,7))\n",
    "x_mesh, y_mesh = np.meshgrid(x, y)\n",
    "x0 = x[0]\n",
    "plt.pcolormesh(x_mesh-x0, y_mesh, model['rho'].T)\n",
    "plt.plot(x[receiver_list[0]['ix']]-x0, y[receiver_list[0]['iy']], 'wv', alpha=0.5)\n",
    "for i in range(len(source_list)):\n",
    "    plt.plot(x[source_list[i]['ix']]-x0, y[source_list[i]['iy']], 'r*')\n",
    "plt.xlabel(\"x (km)\")\n",
    "plt.ylabel(\"z (km)\")\n",
    "plt.gca().invert_yaxis()\n",
    "plt.axis('scaled')\n",
    "plt.colorbar(shrink=0.5)\n",
    "plt.savefig(os.path.join(out_dir, \"layer-model-rho.png\"))\n",
    "plt.show()"
   ]
  },
  {
   "cell_type": "code",
   "execution_count": 20,
   "metadata": {},
   "outputs": [
    {
     "data": {
      "image/png": "[encoded data removed]",
      "text/plain": [
       "<Figure size 720x504 with 2 Axes>"
      ]
     },
     "metadata": {},
     "output_type": "display_data"
    }
   ],
   "source": [
    "plt.figure(figsize=(10,7))\n",
    "x_mesh, y_mesh = np.meshgrid(x, y)\n",
    "x0 = x[0]\n",
    "plt.pcolormesh(x_mesh-x0, y_mesh, smooth_model['rho'].T)\n",
    "plt.plot(x[receiver_list[0]['ix']]-x0, y[receiver_list[0]['iy']], 'wv', alpha=0.5)\n",
    "for i in range(len(source_list)):\n",
    "    plt.plot(x[source_list[i]['ix']]-x0, y[source_list[i]['iy']], 'r*')\n",
    "plt.xlabel(\"x (km)\")\n",
    "plt.ylabel(\"z (km)\")\n",
    "plt.gca().invert_yaxis()\n",
    "plt.axis('scaled')\n",
    "plt.colorbar(shrink=0.5)\n",
    "plt.savefig(os.path.join(out_dir, \"layer-model-smooth-rho.png\"))\n",
    "plt.show()"
   ]
  },
  {
   "cell_type": "code",
   "execution_count": 21,
   "metadata": {},
   "outputs": [
    {
     "data": {
      "image/png": "[encoded data removed]",
      "text/plain": [
       "<Figure size 720x504 with 2 Axes>"
      ]
     },
     "metadata": {},
     "output_type": "display_data"
    }
   ],
   "source": [
    "plt.figure(figsize=(10,7))\n",
    "x_mesh, y_mesh = np.meshgrid(x, y)\n",
    "x0 = x[0]\n",
    "plt.pcolormesh(x_mesh-x0, y_mesh, anomaly_model['rho'].T)\n",
    "plt.plot(x[receiver_list[0]['ix']]-x0, y[receiver_list[0]['iy']], 'wv', alpha=0.5)\n",
    "for i in range(len(source_list)):\n",
    "    plt.plot(x[source_list[i]['ix']]-x0, y[source_list[i]['iy']], 'r*')\n",
    "plt.xlabel(\"x (km)\")\n",
    "plt.ylabel(\"z (km)\")\n",
    "plt.gca().invert_yaxis()\n",
    "plt.axis('scaled')\n",
    "plt.colorbar(shrink=0.5)\n",
    "plt.savefig(os.path.join(out_dir, \"layer-model-anomaly-rho.png\"))\n",
    "plt.show()"
   ]
  },
  {
   "cell_type": "code",
   "execution_count": 22,
   "metadata": {
    "collapsed": true,
    "scrolled": true
   },
   "outputs": [],
   "source": [
    "scipy.io.savemat(os.path.join(out_dir, \"layer-model-anomaly.mat\"), \n",
    "         {\"vp\" : anomaly_model['vp'], \n",
    "         \"vs\" : anomaly_model['vs'], \n",
    "         \"rho\" : anomaly_model['rho'],\n",
    "         \"source\" : source_list,\n",
    "         \"receiver\" : receiver_list,\n",
    "         \"dx\" : dx,\n",
    "         \"dy\" : dy,\n",
    "         \"dt\" : dt,\n",
    "         \"nx\" : nx,\n",
    "         \"ny\" : ny,\n",
    "         \"nt\" : nt,\n",
    "         \"f0\" : f0})"
   ]
  },
  {
   "cell_type": "code",
   "execution_count": 23,
   "metadata": {
    "collapsed": true
   },
   "outputs": [],
   "source": [
    "scipy.io.savemat(os.path.join(out_dir, \"layer-model-smooth.mat\"), \n",
    "         {\"vp\" : smooth_model['vp'], \n",
    "         \"vs\" : smooth_model['vs'], \n",
    "         \"rho\" : smooth_model['rho'],\n",
    "#          \"vs\" : anomaly_model['vs']*1000, \n",
    "#          \"rho\" : anomaly_model['rho']*1000,\n",
    "         \"source\" : source_list,\n",
    "         \"receiver\" : receiver_list,\n",
    "         \"dx\" : dx,\n",
    "         \"dy\" : dy,\n",
    "         \"dt\" : dt,\n",
    "         \"nx\" : nx,\n",
    "         \"ny\" : ny,\n",
    "         \"nt\" : nt,\n",
    "         \"f0\" : f0})"
   ]
  },
  {
   "cell_type": "raw",
   "metadata": {},
   "source": [
    "scipy.io.savemat(os.path.join(out_dir, \"layer-model-smooth.mat\"), \n",
    "         {\"vp\" : np.ones_like(smooth_model['vp']) * np.mean(smooth_model['vp']) *1000, \n",
    "         \"vs\" : np.ones_like(smooth_model['vs']) * np.mean(smooth_model['vs']) *1000, \n",
    "         \"rho\" : np.ones_like(smooth_model['rho']) * np.mean(smooth_model['rho']) *1000,\n",
    "#          \"vs\" : anomaly_model['vs']*1000, \n",
    "#          \"rho\" : anomaly_model['rho']*1000,\n",
    "         \"source\" : source_list,\n",
    "         \"receiver\" : receiver_list,\n",
    "         \"dx\" : dx*1000,\n",
    "         \"dy\" : dy*1000,\n",
    "         \"dt\" : dt,\n",
    "         \"nx\" : nx,\n",
    "         \"ny\" : ny,\n",
    "         \"nt\" : nt,\n",
    "         \"f0\" : f0})"
   ]
  },
  {
   "cell_type": "code",
   "execution_count": 24,
   "metadata": {
    "collapsed": true
   },
   "outputs": [],
   "source": [
    "scipy.io.savemat(os.path.join(out_dir, \"layer-model.mat\"), \n",
    "         {\"vp\" : model['vp'], \n",
    "         \"vs\" : model['vs'], \n",
    "         \"rho\" : model['rho'],\n",
    "         \"source\" : source_list,\n",
    "         \"receiver\" : receiver_list,\n",
    "         \"dx\" : dx,\n",
    "         \"dy\" : dy,\n",
    "         \"dt\" : dt,\n",
    "         \"nx\" : nx,\n",
    "         \"ny\" : ny,\n",
    "         \"nt\" : nt,\n",
    "         \"f0\" : f0})"
   ]
  },
  {
   "cell_type": "code",
   "execution_count": null,
   "metadata": {
    "collapsed": true
   },
   "outputs": [],
   "source": []
  },
  {
   "cell_type": "markdown",
   "metadata": {
    "collapsed": true
   },
   "source": [
    "### "
   ]
  }
 ],
 "metadata": {
  "kernelspec": {
   "display_name": "Python 3",
   "language": "python",
   "name": "python3"
  },
  "language_info": {
   "codemirror_mode": {
    "name": "ipython",
    "version": 3
   },
   "file_extension": ".py",
   "mimetype": "text/x-python",
   "name": "python",
   "nbconvert_exporter": "python",
   "pygments_lexer": "ipython3",
   "version": "3.7.4"
  }
 },
 "nbformat": 4,
 "nbformat_minor": 2
}
