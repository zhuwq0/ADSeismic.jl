{
 "cells": [
  {
   "cell_type": "markdown",
   "metadata": {},
   "source": [
    "## Layer Earth crust model\n",
    "\n",
    "In this model, we build a layered Earth crust model, with two anomalies: slow velocity and fast velocity. The mean velociy is the similar AK135 model."
   ]
  },
  {
   "cell_type": "markdown",
   "metadata": {},
   "source": [
    "## AK135 velocity model\n",
    "| depth(km)  |  vp (km/s)  | vs (km/s)  | rho (kg/m$^3$) |\n",
    "|----|----|----|----|\n",
    "|   0.000,   |   5.8000,  |    3.4600,  |    2.7200 |\n",
    "|  20.000,   |   5.8000,  |    3.4600,  |    2.7200 |\n",
    "|  20.000,   |   6.5000,  |    3.8500,  |    2.9200 |\n",
    "|  35.000,   |   6.5000,  |    3.8500,  |    2.9200 |\n",
    "|  35.000,   |   8.0400,  |    4.4800,  |    3.3198 |\n",
    "|  77.500,   |   8.0450,  |    4.4900,  |    3.3455 |\n",
    "| 120.000,   |   8.0500,  |    4.5000,  |    3.3713 |"
   ]
  },
  {
   "cell_type": "code",
   "execution_count": 1,
   "metadata": {},
   "outputs": [],
   "source": [
    "import numpy as np\n",
    "import matplotlib.pyplot as plt\n",
    "import scipy.io\n",
    "from scipy.ndimage.filters import gaussian_filter\n",
    "from scipy.interpolate import interp1d\n",
    "import os\n",
    "from util import *"
   ]
  },
  {
   "cell_type": "code",
   "execution_count": 2,
   "metadata": {},
   "outputs": [],
   "source": [
    "%load_ext autoreload\n",
    "%autoreload 2"
   ]
  },
  {
   "cell_type": "code",
   "execution_count": 3,
   "metadata": {},
   "outputs": [],
   "source": [
    "out_dir = \"models\"\n",
    "if not os.path.exists(out_dir):\n",
    "    os.makedirs(out_dir)"
   ]
  },
  {
   "cell_type": "code",
   "execution_count": 4,
   "metadata": {},
   "outputs": [
    {
     "name": "stdout",
     "output_type": "stream",
     "text": [
      "nx = 120, ny = 60, nt = 805\n",
      "dx = 0.33333333333333337 km, dy = 0.33333333333333337 km, dt = 0.015873015873015876 s\n"
     ]
    }
   ],
   "source": [
    "f0 = 3\n",
    "vp0 = 7 #km/s\n",
    "dx, dt = calc_dx_dt(f0, vp0)\n",
    "dy = dx\n",
    "n_pml = 15\n",
    "x_range = [0, 40]\n",
    "y_range = [0, 20]\n",
    "t_range = [0, np.sqrt((x_range[1] - x_range[0])**2 + (y_range[1] - y_range[0])**2)/vp0 *2]\n",
    "x = np.arange(x_range[0], x_range[1], dx)\n",
    "y = np.arange(y_range[0], y_range[1], dy)\n",
    "t = np.arange(t_range[0], t_range[1], dt)\n",
    "nx = len(x)\n",
    "ny = len(y)\n",
    "nt = len(t)\n",
    "rcv_depth = 12\n",
    "src_depth = ny - 12\n",
    "mask_extra_depth = 4\n",
    "print(\"nx = {}, ny = {}, nt = {}\".format(nx, ny, nt))\n",
    "print(\"dx = {} km, dy = {} km, dt = {} s\".format(dx, dy, dt))"
   ]
  },
  {
   "cell_type": "code",
   "execution_count": 5,
   "metadata": {},
   "outputs": [
    {
     "name": "stdout",
     "output_type": "stream",
     "text": [
      "source: nx = 6, ny = 2\n"
     ]
    }
   ],
   "source": [
    "ix_source = np.linspace(30, nx-30, 6).astype('int')\n",
    "iy_source = np.linspace(30, 40, 2).astype('int')\n",
    "nx_source = len(ix_source)\n",
    "ny_source = len(iy_source)\n",
    "x_source_grid, y_source_grid = np.meshgrid(ix_source, iy_source)\n",
    "print(\"source: nx = {}, ny = {}\".format(nx_source, ny_source))"
   ]
  },
  {
   "cell_type": "markdown",
   "metadata": {},
   "source": [
    "## source and receiver types:\n",
    "\n",
    "| index | type |\n",
    "| :---: | :---: |\n",
    "|0 | $v_x$ |\n",
    "|1 | $v_y$ |\n",
    "|2 | $\\sigma_{xx}$ |\n",
    "|3 | $\\sigma_{yy}$ |\n",
    "|4 | $\\sigma_{xy}$ |"
   ]
  },
  {
   "cell_type": "code",
   "execution_count": 6,
   "metadata": {},
   "outputs": [],
   "source": [
    "src_type = [2]\n",
    "rcv_type = [0]\n",
    "src_amp = 1e6"
   ]
  },
  {
   "cell_type": "code",
   "execution_count": 7,
   "metadata": {},
   "outputs": [
    {
     "name": "stdout",
     "output_type": "stream",
     "text": [
      "[ 0.  4.  8. 12. 16. 20.]\n"
     ]
    }
   ],
   "source": [
    "def step_profile(x_range, y_range, step):\n",
    "    y_step1 = np.round(np.arange(y_range[0], y_range[1]+step, step)/step) * step\n",
    "    print(y_step1)\n",
    "    vp_step1 = y_step1/(y_range[1]-y_range[0]) * (8.04-5.8) + 5.8\n",
    "    vs_step1 = y_step1/(y_range[1]-y_range[0]) * (4.48-3.46) + 3.46\n",
    "    rho_step1 = y_step1/(y_range[1]-y_range[0]) * (3.32-2.72) + 2.72\n",
    "    \n",
    "    y_step2 = y_step1 + (y_step1[1] - y_step1[0] - 1)\n",
    "    vp_step2 = vp_step1\n",
    "    vs_step2 = vs_step1\n",
    "    rho_step2 = rho_step1\n",
    "\n",
    "    idy = np.argsort(np.hstack([y_step1, y_step2]))\n",
    "    y_step = np.hstack([y_step1, y_step2])[idy]\n",
    "    vp_step = np.hstack([vp_step1, vp_step2])[idy]\n",
    "    vs_step = np.hstack([vs_step1, vs_step2])[idy]\n",
    "    rho_step = np.hstack([rho_step1, rho_step2])[idy]\n",
    "    vp_step[-1:] = vp_step[-2]\n",
    "    vs_step[-1:] = vs_step[-2]\n",
    "    rho_step[-1:] = rho_step[-2]\n",
    "    \n",
    "    return y_step, vp_step, vs_step, rho_step\n",
    "\n",
    "def build_layer_model(x, y, step):\n",
    "    y_step, vp_step, vs_step, rho_step = step_profile([x[0], x[-1]], [y[0], y[-1]], step)\n",
    "    \n",
    "    vp = interp1d(y_step, vp_step, kind='slinear')(y)\n",
    "    vs = interp1d(y_step, vs_step, kind='slinear')(y)\n",
    "    rho = interp1d(y_step, rho_step, kind='slinear')(y)\n",
    "    \n",
    "    vp = np.tile(vp[np.newaxis,:], [len(x),1])\n",
    "    vs = np.tile(vs[np.newaxis,:], [len(x),1])\n",
    "    rho = np.tile(rho[np.newaxis,:], [len(x),1])\n",
    "    \n",
    "    model = {}\n",
    "    model['vp'] = vp\n",
    "    model['vs'] = vs\n",
    "    model['rho'] = rho\n",
    "    model['x'] = x\n",
    "    model['y'] = y\n",
    "    model['dx'] = x[1] - x[0]\n",
    "    model['dy'] = y[1] - y[0]\n",
    "    \n",
    "    return model\n",
    "\n",
    "step = 4 #km\n",
    "model = build_layer_model(x, y, step)\n"
   ]
  },
  {
   "cell_type": "code",
   "execution_count": 8,
   "metadata": {},
   "outputs": [
    {
     "data": {
      "image/png": "[encoded data removed]",
      "text/plain": [
       "<Figure size 432x288 with 1 Axes>"
      ]
     },
     "metadata": {
      "needs_background": "light"
     },
     "output_type": "display_data"
    }
   ],
   "source": [
    "plt.figure()\n",
    "plt.plot(model['vp'][0,:], y, label='vp')\n",
    "plt.plot(model['vs'][0,:], y, label='vs')\n",
    "plt.plot(model['rho'][0,:], y, label='rho')\n",
    "plt.gca().invert_yaxis()\n",
    "plt.legend()\n",
    "plt.show()"
   ]
  },
  {
   "cell_type": "code",
   "execution_count": 9,
   "metadata": {},
   "outputs": [],
   "source": [
    "def add_source(ix_source, iy_source, f0, t, width):\n",
    "    rupture = {}\n",
    "    rupture['ix'] = []\n",
    "    rupture['iy'] = []\n",
    "    src = {}\n",
    "    src['ix'] = []\n",
    "    src['iy'] = []\n",
    "    src['type'] = []\n",
    "    src['vec'] = []\n",
    "    src['amp'] = []\n",
    "    src['shift'] = []\n",
    "    dt = t[1] - t[0]\n",
    "\n",
    "#     vec = 1e6*ricker(f0*3, dt)\n",
    "    np.random.seed(100)\n",
    "    f0 = np.random.uniform(2, 4, len(ix_source)*len(iy_source))\n",
    "    A = np.random.uniform(1, 10, len(ix_source)*len(iy_source)) * src_amp\n",
    "    dum = 0\n",
    "    for i in ix_source:\n",
    "        for j in iy_source:\n",
    "#             rupture['ix'].append(i)\n",
    "#             rupture['iy'].append(j)\n",
    "#             if abs(j-iy_source[0] - (np.sin(2*np.pi * (i-ix_source[0])/nx_source) + 1)/2*(ny_source-width)) <= width:\n",
    "#             src['ix'].append(i)\n",
    "#             src['iy'].append(j)\n",
    "#             src['type'].append(0)\n",
    "            tmp = np.zeros_like(t)\n",
    "#             if j == iy_source[len(iy_source)//2-1]:\n",
    "            if True:\n",
    "                rupture['ix'].append(i)\n",
    "                rupture['iy'].append(j)\n",
    "                src['ix'].append(i)\n",
    "                src['iy'].append(j)\n",
    "                src['type'].append(0)\n",
    "                vec = A[dum] * ricker(f0[dum], dt)\n",
    "                ishift = int((i-ix_source[0])*dx/vp0/dt*2)\n",
    "#                 print(A[dum])\n",
    "#                 print(ishift+len(vec)//2)\n",
    "                src['amp'].append(A[dum])\n",
    "                src['shift'].append(ishift+len(vec)//2)\n",
    "                tmp[ishift:ishift+len(vec)] = vec[:len(tmp)-ishift]\n",
    "                src['vec'].append(tmp)\n",
    "            dum += 1\n",
    "    src['vec'] = np.stack(src['vec']).T\n",
    "    return rupture, [src]\n",
    "\n",
    "rupture, source_list = add_source(ix_source, iy_source, f0, t, 10)\n",
    "nsrc = len(source_list)"
   ]
  },
  {
   "cell_type": "code",
   "execution_count": 10,
   "metadata": {},
   "outputs": [
    {
     "data": {
      "image/png": "[encoded data removed]",
      "text/plain": [
       "<Figure size 432x288 with 1 Axes>"
      ]
     },
     "metadata": {
      "needs_background": "light"
     },
     "output_type": "display_data"
    }
   ],
   "source": [
    "plt.figure()\n",
    "vmax = np.max(source_list[0]['vec'])\n",
    "t = np.arange(nt) * dt\n",
    "n = np.arange(len(rupture['ix'])) + 0.5\n",
    "n, t = np.meshgrid(n, t)\n",
    "plt.pcolormesh(n, t, source_list[0]['vec'], vmax=vmax, vmin=-vmax, cmap='seismic')\n",
    "# plt.colorbar()\n",
    "plt.show()"
   ]
  },
  {
   "cell_type": "code",
   "execution_count": 11,
   "metadata": {},
   "outputs": [],
   "source": [
    "def add_receiver(nrec, nsrc, nx, n_pml=0, types=[0]):\n",
    "    rcv = {}\n",
    "    rcv['ix'] = np.round(np.linspace(0+n_pml, nx-n_pml, nrec)).astype('int')\n",
    "    rcv['iy'] = np.ones_like(rcv['ix']) * rcv_depth\n",
    "    rcv['type'] = np.ones_like(rcv['ix'])\n",
    "    \n",
    "    rcvs = {}\n",
    "    rcvs['ix'] = np.tile(rcv['ix'], len(types))   \n",
    "    rcvs['iy'] = np.tile(rcv['iy'], len(types))  \n",
    "    rcvs['type'] = np.hstack([rcv['type'] * i for i in types])\n",
    "    \n",
    "    return [rcvs] * nsrc\n",
    "    \n",
    "receiver_list = add_receiver(int(vp0/f0/dx)*4, nsrc, nx, n_pml, rcv_type)"
   ]
  },
  {
   "cell_type": "code",
   "execution_count": 12,
   "metadata": {},
   "outputs": [],
   "source": [
    "def get_smooth_model(model, src):\n",
    "#     vp = model['vp'].copy()\n",
    "#     vp[:,rcv_depth+mask_extra_depth:src_depth-mask_extra_depth] = gaussian_filter(model['vp'][:, rcv_depth+mask_extra_depth:src_depth-mask_extra_depth], [10,10], mode='reflect')\n",
    "#     vs = model['vs'].copy()\n",
    "#     vs[:,rcv_depth+mask_extra_depth:src_depth-mask_extra_depth] = gaussian_filter(model['vs'][:, rcv_depth+mask_extra_depth:src_depth-mask_extra_depth], [10,10], mode='reflect')\n",
    "#     rho = model['rho'].copy()\n",
    "#     rho[:,rcv_depth+mask_extra_depth:src_depth-mask_extra_depth] = gaussian_filter(model['rho'][:, rcv_depth+mask_extra_depth:src_depth-mask_extra_depth], [10,10], mode='reflect')\n",
    "    vp = model['vp'].copy()\n",
    "    vp = gaussian_filter(model['vp'], [10,10], mode='reflect')\n",
    "    vs = model['vs'].copy()\n",
    "    vs = gaussian_filter(model['vs'], [10,10], mode='reflect')\n",
    "    rho = model['rho'].copy()\n",
    "    rho = gaussian_filter(model['rho'], [10,10], mode='reflect')\n",
    "    \n",
    "    new_model = {}\n",
    "    new_model['vp'] = vp\n",
    "    new_model['vs'] = vs\n",
    "    new_model['rho'] = rho\n",
    "    new_model['x'] = model['x']\n",
    "    new_model['y'] = model['y']\n",
    "    new_model['dx'] = model['dx']\n",
    "    new_model['dy'] = model['dy']\n",
    "    return new_model\n",
    "\n",
    "smooth_model = get_smooth_model(model, source_list[0])"
   ]
  },
  {
   "cell_type": "code",
   "execution_count": 13,
   "metadata": {},
   "outputs": [
    {
     "data": {
      "image/png": "[encoded data removed]",
      "text/plain": [
       "<Figure size 720x504 with 2 Axes>"
      ]
     },
     "metadata": {
      "needs_background": "light"
     },
     "output_type": "display_data"
    }
   ],
   "source": [
    "plt.figure(figsize=(10,7))\n",
    "x_mesh, y_mesh = np.meshgrid(x, y)\n",
    "x0 = x[0]\n",
    "plt.pcolormesh(x_mesh-x0, y_mesh, model['vp'].T)\n",
    "plt.plot(x[receiver_list[0]['ix']]-x0, y[receiver_list[0]['iy']], 'wv', alpha=0.5)\n",
    "plt.plot(x[rupture['ix']]-x0, y[rupture['iy']], 'b.')\n",
    "for i in range(len(source_list)):\n",
    "    plt.plot(x[source_list[i]['ix']]-x0, y[source_list[i]['iy']], 'r*')\n",
    "plt.xlabel(\"x (km)\")\n",
    "plt.ylabel(\"z (km)\")\n",
    "plt.gca().invert_yaxis()\n",
    "plt.axis('scaled')\n",
    "plt.colorbar(shrink=0.5)\n",
    "plt.savefig(os.path.join(out_dir, \"layer-model-vp.png\"))\n",
    "plt.show()"
   ]
  },
  {
   "cell_type": "code",
   "execution_count": 14,
   "metadata": {},
   "outputs": [
    {
     "data": {
      "image/png": "[encoded data removed]",
      "text/plain": [
       "<Figure size 720x504 with 2 Axes>"
      ]
     },
     "metadata": {
      "needs_background": "light"
     },
     "output_type": "display_data"
    }
   ],
   "source": [
    "plt.figure(figsize=(10,7))\n",
    "x_mesh, y_mesh = np.meshgrid(x, y)\n",
    "x0 = x[0]\n",
    "plt.pcolormesh(x_mesh-x0, y_mesh, smooth_model['vp'].T)\n",
    "plt.plot(x[receiver_list[0]['ix']]-x0, y[receiver_list[0]['iy']], 'wv', alpha=0.5)\n",
    "plt.plot(x[rupture['ix']]-x0, y[rupture['iy']], 'b.')\n",
    "for i in range(len(source_list)):\n",
    "    plt.plot(x[source_list[i]['ix']]-x0, y[source_list[i]['iy']], 'r*')\n",
    "plt.xlabel(\"x (km)\")\n",
    "plt.ylabel(\"z (km)\")\n",
    "plt.gca().invert_yaxis()\n",
    "plt.axis('scaled')\n",
    "plt.colorbar(shrink=0.5)\n",
    "plt.savefig(os.path.join(out_dir, \"layer-model-smooth-vp.png\"))\n",
    "plt.show()"
   ]
  },
  {
   "cell_type": "code",
   "execution_count": 15,
   "metadata": {},
   "outputs": [
    {
     "data": {
      "image/png": "[encoded data removed]",
      "text/plain": [
       "<Figure size 720x504 with 2 Axes>"
      ]
     },
     "metadata": {
      "needs_background": "light"
     },
     "output_type": "display_data"
    }
   ],
   "source": [
    "plt.figure(figsize=(10,7))\n",
    "x_mesh, y_mesh = np.meshgrid(x, y)\n",
    "x0 = x[0]\n",
    "plt.pcolormesh(x_mesh-x0, y_mesh, model['vs'].T)\n",
    "plt.plot(x[receiver_list[0]['ix']]-x0, y[receiver_list[0]['iy']], 'wv', alpha=0.5)\n",
    "plt.plot(x[rupture['ix']]-x0, y[rupture['iy']], 'b.')\n",
    "for i in range(len(source_list)):\n",
    "    plt.plot(x[source_list[i]['ix']]-x0, y[source_list[i]['iy']], 'r*')\n",
    "plt.xlabel(\"x (km)\")\n",
    "plt.ylabel(\"z (km)\")\n",
    "plt.gca().invert_yaxis()\n",
    "plt.axis('scaled')\n",
    "plt.colorbar(shrink=0.5)\n",
    "plt.savefig(os.path.join(out_dir, \"layer-model-vs.png\"))\n",
    "plt.show()"
   ]
  },
  {
   "cell_type": "code",
   "execution_count": 16,
   "metadata": {},
   "outputs": [
    {
     "data": {
      "image/png": "[encoded data removed]",
      "text/plain": [
       "<Figure size 720x504 with 2 Axes>"
      ]
     },
     "metadata": {
      "needs_background": "light"
     },
     "output_type": "display_data"
    }
   ],
   "source": [
    "plt.figure(figsize=(10,7))\n",
    "x_mesh, y_mesh = np.meshgrid(x, y)\n",
    "x0 = x[0]\n",
    "plt.pcolormesh(x_mesh-x0, y_mesh, smooth_model['vp'].T)\n",
    "plt.plot(x[receiver_list[0]['ix']]-x0, y[receiver_list[0]['iy']], 'wv', alpha=0.5)\n",
    "plt.plot(x[rupture['ix']]-x0, y[rupture['iy']], 'b.')\n",
    "for i in range(len(source_list)):\n",
    "    plt.plot(x[source_list[i]['ix']]-x0, y[source_list[i]['iy']], 'r*')\n",
    "plt.xlabel(\"x (km)\")\n",
    "plt.ylabel(\"z (km)\")\n",
    "plt.gca().invert_yaxis()\n",
    "plt.axis('scaled')\n",
    "plt.colorbar(shrink=0.5)\n",
    "plt.savefig(os.path.join(out_dir, \"layer-model-smooth-vp.png\"))\n",
    "plt.show()"
   ]
  },
  {
   "cell_type": "code",
   "execution_count": 17,
   "metadata": {},
   "outputs": [
    {
     "data": {
      "image/png": "[encoded data removed]",
      "text/plain": [
       "<Figure size 720x504 with 2 Axes>"
      ]
     },
     "metadata": {
      "needs_background": "light"
     },
     "output_type": "display_data"
    }
   ],
   "source": [
    "plt.figure(figsize=(10,7))\n",
    "x_mesh, y_mesh = np.meshgrid(x, y)\n",
    "x0 = x[0]\n",
    "plt.pcolormesh(x_mesh-x0, y_mesh, model['rho'].T)\n",
    "plt.plot(x[receiver_list[0]['ix']]-x0, y[receiver_list[0]['iy']], 'wv', alpha=0.5)\n",
    "plt.plot(x[rupture['ix']]-x0, y[rupture['iy']], 'b.')\n",
    "for i in range(len(source_list)):\n",
    "    plt.plot(x[source_list[i]['ix']]-x0, y[source_list[i]['iy']], 'r*')\n",
    "plt.xlabel(\"x (km)\")\n",
    "plt.ylabel(\"z (km)\")\n",
    "plt.gca().invert_yaxis()\n",
    "plt.axis('scaled')\n",
    "plt.colorbar(shrink=0.5)\n",
    "plt.savefig(os.path.join(out_dir, \"layer-model-rho.png\"))\n",
    "plt.show()"
   ]
  },
  {
   "cell_type": "code",
   "execution_count": 18,
   "metadata": {},
   "outputs": [
    {
     "data": {
      "image/png": "[encoded data removed]",
      "text/plain": [
       "<Figure size 720x504 with 2 Axes>"
      ]
     },
     "metadata": {
      "needs_background": "light"
     },
     "output_type": "display_data"
    }
   ],
   "source": [
    "plt.figure(figsize=(10,7))\n",
    "x_mesh, y_mesh = np.meshgrid(x, y)\n",
    "x0 = x[0]\n",
    "plt.pcolormesh(x_mesh-x0, y_mesh, smooth_model['rho'].T)\n",
    "plt.plot(x[receiver_list[0]['ix']]-x0, y[receiver_list[0]['iy']], 'wv', alpha=0.5)\n",
    "plt.plot(x[rupture['ix']]-x0, y[rupture['iy']], 'b.')\n",
    "for i in range(len(source_list)):\n",
    "    plt.plot(x[source_list[i]['ix']]-x0, y[source_list[i]['iy']], 'r*')\n",
    "plt.xlabel(\"x (km)\")\n",
    "plt.ylabel(\"z (km)\")\n",
    "plt.gca().invert_yaxis()\n",
    "plt.axis('scaled')\n",
    "plt.colorbar(shrink=0.5)\n",
    "plt.savefig(os.path.join(out_dir, \"layer-model-smooth-rho.png\"))\n",
    "plt.show()"
   ]
  },
  {
   "cell_type": "raw",
   "metadata": {
    "collapsed": true,
    "scrolled": true
   },
   "source": [
    "scipy.io.savemat(os.path.join(out_dir, \"layer-model-anomaly.mat\"), \n",
    "         {\"vp\" : anomaly_model['vp'], \n",
    "         \"vs\" : anomaly_model['vs'], \n",
    "         \"rho\" : anomaly_model['rho'],\n",
    "         \"source\" : source_list,\n",
    "         \"receiver\" : receiver_list,\n",
    "         \"dx\" : dx,\n",
    "         \"dy\" : dy,\n",
    "         \"dt\" : dt,\n",
    "         \"nx\" : nx,\n",
    "         \"ny\" : ny,\n",
    "         \"nt\" : nt,\n",
    "         \"f0\" : f0})"
   ]
  },
  {
   "cell_type": "code",
   "execution_count": 19,
   "metadata": {},
   "outputs": [],
   "source": [
    "scipy.io.savemat(os.path.join(out_dir, \"layer-model-rupture-smooth.mat\"), \n",
    "         {\"vp\" : smooth_model['vp'], \n",
    "         \"vs\" : smooth_model['vs'], \n",
    "         \"rho\" : smooth_model['rho'],\n",
    "#          \"vs\" : anomaly_model['vs']*1000, \n",
    "#          \"rho\" : anomaly_model['rho']*1000,\n",
    "         \"source\" : source_list,\n",
    "         \"receiver\" : receiver_list,\n",
    "         \"rupture\": rupture,\n",
    "         \"dx\" : dx,\n",
    "         \"dy\" : dy,\n",
    "         \"dt\" : dt,\n",
    "         \"nx\" : nx,\n",
    "         \"ny\" : ny,\n",
    "         \"nt\" : nt,\n",
    "         \"f0\" : f0})"
   ]
  },
  {
   "cell_type": "raw",
   "metadata": {},
   "source": [
    "scipy.io.savemat(os.path.join(out_dir, \"layer-model-smooth.mat\"), \n",
    "         {\"vp\" : np.ones_like(smooth_model['vp']) * np.mean(smooth_model['vp']) *1000, \n",
    "         \"vs\" : np.ones_like(smooth_model['vs']) * np.mean(smooth_model['vs']) *1000, \n",
    "         \"rho\" : np.ones_like(smooth_model['rho']) * np.mean(smooth_model['rho']) *1000,\n",
    "#          \"vs\" : anomaly_model['vs']*1000, \n",
    "#          \"rho\" : anomaly_model['rho']*1000,\n",
    "         \"source\" : source_list,\n",
    "         \"receiver\" : receiver_list,\n",
    "         \"dx\" : dx*1000,\n",
    "         \"dy\" : dy*1000,\n",
    "         \"dt\" : dt,\n",
    "         \"nx\" : nx,\n",
    "         \"ny\" : ny,\n",
    "         \"nt\" : nt,\n",
    "         \"f0\" : f0})"
   ]
  },
  {
   "cell_type": "code",
   "execution_count": 20,
   "metadata": {},
   "outputs": [],
   "source": [
    "scipy.io.savemat(os.path.join(out_dir, \"layer-model-rupture.mat\"), \n",
    "         {\"vp\" : model['vp'], \n",
    "         \"vs\" : model['vs'], \n",
    "         \"rho\" : model['rho'],\n",
    "         \"source\" : source_list,\n",
    "         \"receiver\" : receiver_list,\n",
    "         \"rupture\": rupture,\n",
    "         \"dx\" : dx,\n",
    "         \"dy\" : dy,\n",
    "         \"dt\" : dt,\n",
    "         \"nx\" : nx,\n",
    "         \"ny\" : ny,\n",
    "         \"nt\" : nt,\n",
    "         \"f0\" : f0})"
   ]
  },
  {
   "cell_type": "code",
   "execution_count": null,
   "metadata": {},
   "outputs": [],
   "source": []
  }
 ],
 "metadata": {
  "kernelspec": {
   "display_name": "Python 3",
   "language": "python",
   "name": "python3"
  },
  "language_info": {
   "codemirror_mode": {
    "name": "ipython",
    "version": 3
   },
   "file_extension": ".py",
   "mimetype": "text/x-python",
   "name": "python",
   "nbconvert_exporter": "python",
   "pygments_lexer": "ipython3",
   "version": "3.7.4"
  }
 },
 "nbformat": 4,
 "nbformat_minor": 2
}
